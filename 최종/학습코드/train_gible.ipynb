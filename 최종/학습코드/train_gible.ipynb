{
  "cells": [
    {
      "cell_type": "code",
      "execution_count": null,
      "metadata": {
        "id": "Cga24X3dpcUI"
      },
      "outputs": [],
      "source": [
        "!pip install --upgrade torch torchvision\n",
        "!pip install facenet-pytorch"
      ]
    },
    {
      "cell_type": "code",
      "execution_count": null,
      "metadata": {
        "id": "HeVwie5AX2iS"
      },
      "outputs": [],
      "source": [
        "import os\n",
        "import cv2\n",
        "import torch\n",
        "from facenet_pytorch import MTCNN\n",
        "from PIL import Image\n",
        "from tqdm import tqdm"
      ]
    },
    {
      "cell_type": "code",
      "execution_count": null,
      "metadata": {
        "id": "qL7yvwE3X9PQ"
      },
      "outputs": [],
      "source": [
        "from google.colab import drive\n",
        "drive.mount('/content/drive')"
      ]
    },
    {
      "cell_type": "code",
      "execution_count": null,
      "metadata": {
        "id": "ZOr6XE0-X2iT"
      },
      "outputs": [],
      "source": [
        "import json\n",
        "# 메타데이터 로드\n",
        "metadata_file = '/Users/gible/dataset/Video_maindata/metadata.json' # 파일 경로 조정\n",
        "with open(metadata_file, 'r') as f:\n",
        "    metadata = json.load(f)\n"
      ]
    },
    {
      "cell_type": "code",
      "execution_count": null,
      "metadata": {
        "id": "G9I3ra6yX2iT"
      },
      "outputs": [],
      "source": [
        "# 출력 폴더 생성\n",
        "os.makedirs(output_folder, exist_ok=True)"
      ]
    },
    {
      "cell_type": "code",
      "execution_count": null,
      "metadata": {
        "id": "sZobTjspX2iT"
      },
      "outputs": [],
      "source": [
        "# 비디오 처리 함수 정의\n",
        "def process_video(video_path, output_folder, mtcnn, metadata, frame_interval=10, resize_dim=(224, 224)):\n",
        "    cap = cv2.VideoCapture(video_path)\n",
        "    frame_count = 0\n",
        "    extracted_count = 0\n",
        "    video_name = os.path.splitext(os.path.basename(video_path))[0]\n",
        "\n",
        "    # 비디오별 폴더 생성\n",
        "    video_output_folder = os.path.join(output_folder, video_name)\n",
        "    os.makedirs(video_output_folder, exist_ok=True)\n",
        "\n",
        "    # 메타데이터에서 라벨 가져오기\n",
        "    label = metadata.get(f\"{video_name}.mp4\", {}).get(\"label\", \"REAL\")\n",
        "    prefix = \"FAKE_\" if label == \"FAKE\" else \"\"\n",
        "\n",
        "    while cap.isOpened():\n",
        "        ret, frame = cap.read()\n",
        "        if not ret:\n",
        "            break\n",
        "\n",
        "        # 프레임 간격에 따라 샘플링\n",
        "        if frame_count % frame_interval == 0:\n",
        "            # OpenCV BGR -> PIL RGB 변환\n",
        "            frame_rgb = cv2.cvtColor(frame, cv2.COLOR_BGR2RGB)\n",
        "            pil_img = Image.fromarray(frame_rgb)\n",
        "\n",
        "            # 얼굴 감지\n",
        "            boxes, _ = mtcnn.detect(pil_img)\n",
        "            if boxes is not None:\n",
        "                for i, box in enumerate(boxes):\n",
        "                    face = pil_img.crop((box[0], box[1], box[2], box[3])).resize(resize_dim)\n",
        "                    face_filename = f\"{prefix}{video_name}_face_{extracted_count}.jpg\"\n",
        "                    face.save(os.path.join(video_output_folder, face_filename))\n",
        "                    extracted_count += 1\n",
        "\n",
        "        frame_count += 1\n",
        "\n",
        "    cap.release()"
      ]
    },
    {
      "cell_type": "code",
      "execution_count": null,
      "metadata": {
        "id": "ViklL2X0X2iU"
      },
      "outputs": [],
      "source": [
        "import cv2\n",
        "import numpy as np\n",
        "\n",
        "def pad_to_divisible(frame, divisor=32):\n",
        "    h, w, _ = frame.shape\n",
        "    new_h = (h // divisor + 1) * divisor if h % divisor != 0 else h\n",
        "    new_w = (w // divisor + 1) * divisor if w % divisor != 0 else w\n",
        "    padded_frame = np.zeros((new_h, new_w, 3), dtype=frame.dtype)\n",
        "    padded_frame[:h, :w, :] = frame\n",
        "    return padded_frame"
      ]
    },
    {
      "cell_type": "code",
      "execution_count": null,
      "metadata": {
        "id": "dMm2CyNkX2iU"
      },
      "outputs": [],
      "source": [
        "video_files = []\n",
        "for root, _, files in os.walk(video_folder):\n",
        "    for file in files:\n",
        "        if file.endswith('.mp4'):\n",
        "            video_files.append(os.path.join(root, file))\n",
        "\n",
        "if not video_files:\n",
        "    print(\"지정된 폴더에서 .mp4 파일을 찾을 수 없습니다.\")\n",
        "else:\n",
        "    print(f\"총 {len(video_files)}개의 비디오 파일이 발견되었습니다.\")\n",
        "\n",
        "# 모든 비디오 파일 처리\n",
        "for video_file in tqdm(video_files, desc=\"비디오 전처리 중\"):\n",
        "    try:\n",
        "        process_video(video_file, output_folder, mtcnn, metadata)\n",
        "        print(f\"{os.path.basename(video_file)} 처리 완료\")\n",
        "    except Exception as e:\n",
        "        print(f\"{os.path.basename(video_file)} 처리 오류: {e}\")\n",
        "\n",
        "print(\"비디오 전처리가 완료되었습니다.\")"
      ]
    },
    {
      "cell_type": "markdown",
      "metadata": {
        "id": "OQKUfh69X2iU"
      },
      "source": [
        "### 증강: 컬러조정, 가우시안블러. 픽셀드롭아웃, 어파인변환, 페르스펙티브 변환"
      ]
    },
    {
      "cell_type": "markdown",
      "metadata": {
        "id": "jQ8Ug8whX2iV"
      },
      "source": []
    },
    {
      "cell_type": "code",
      "execution_count": null,
      "metadata": {
        "id": "2Lfu9FKoX2iV"
      },
      "outputs": [],
      "source": [
        "import os\n",
        "from PIL import Image, ImageOps, ImageEnhance, ImageFilter\n",
        "from torchvision import transforms\n",
        "\n",
        "# 경로 설정\n",
        "input_folder = '/Users/gible/dataset/Image_maindata'\n",
        "output_folder = '/Users/gible/dataset/AugmentedData'\n",
        "\n",
        "# 증강 함수 정의\n",
        "def augment_image(image, method):\n",
        "    if method == \"color_jitter\":\n",
        "        transform = transforms.ColorJitter(brightness=0.5, contrast=0.5, saturation=0.5, hue=0.1)\n",
        "        return transform(image)\n",
        "    elif method == \"gaussian_blur\":\n",
        "        return image.filter(ImageFilter.GaussianBlur(radius=2))\n",
        "    elif method == \"random_erasing\":\n",
        "        transform = transforms.RandomErasing(p=1.0)\n",
        "        image_tensor = transforms.ToTensor()(image).unsqueeze(0)\n",
        "        erased_image = transform(image_tensor).squeeze(0)\n",
        "        return transforms.ToPILImage()(erased_image)\n",
        "    elif method == \"affine\":\n",
        "        transform = transforms.RandomAffine(degrees=15, translate=(0.1, 0.1), scale=(0.9, 1.1))\n",
        "        return transform(image)\n",
        "    elif method == \"perspective\":\n",
        "        transform = transforms.RandomPerspective(distortion_scale=0.5, p=1.0)\n",
        "        return transform(image)\n",
        "    elif method == \"flip\":\n",
        "        return ImageOps.mirror(image)\n",
        "    else:\n",
        "        return image\n",
        "\n",
        "# 폴더 순회 및 증강\n",
        "if not os.path.exists(output_folder):\n",
        "    os.makedirs(output_folder)\n",
        "\n",
        "for root, _, files in os.walk(input_folder):\n",
        "    for file in files:\n",
        "        if file.lower().endswith('.jpg') and not file.startswith('FAKE'):\n",
        "            file_path = os.path.join(root, file)\n",
        "            image = Image.open(file_path).convert(\"RGB\")\n",
        "\n",
        "            # 증강 기법 리스트\n",
        "            methods = [\"color_jitter\", \"gaussian_blur\", \"random_erasing\", \"affine\", \"perspective\", \"flip\"]\n",
        "\n",
        "            for method in methods:\n",
        "                augmented_image = augment_image(image, method)\n",
        "                augmented_file_name = f\"{os.path.splitext(file)[0]}_{method}.jpg\"\n",
        "                output_path = os.path.join(output_folder, augmented_file_name)\n",
        "\n",
        "                augmented_image.save(output_path)\n",
        "                print(f\"{augmented_file_name} 생성 완료\")"
      ]
    },
    {
      "cell_type": "code",
      "execution_count": null,
      "metadata": {
        "id": "mAfEigKYX2iV",
        "colab": {
          "base_uri": "https://localhost:8080/"
        },
        "outputId": "351f4125-f16f-4ecd-d76c-ea335788ca15"
      },
      "outputs": [
        {
          "output_type": "stream",
          "name": "stdout",
          "text": [
            "총 이미지 파일 수: 146149\n",
            "FAKE로 시작하는 파일 수: 106957\n",
            "FAKE 파일 비율: 73.18%\n",
            "REAL 파일 비율: 26.82%\n"
          ]
        }
      ],
      "source": [
        "import os\n",
        "\n",
        "# 파일 경로 설정\n",
        "image_folder = '/content/drive/Othercomputers/내 MacBook Pro/Image_maindata'\n",
        "# 파일 비율 계산\n",
        "total_files = 0\n",
        "fake_files = 0\n",
        "\n",
        "# 폴더 순회\n",
        "for root, _, files in os.walk(image_folder):\n",
        "    for file in files:\n",
        "        if file.lower().endswith('.jpg'):\n",
        "            total_files += 1\n",
        "            if file.startswith('FAKE'):\n",
        "                fake_files += 1\n",
        "\n",
        "# 비율 계산\n",
        "fake_ratio = (fake_files / total_files) * 100 if total_files > 0 else 0\n",
        "real_ratio = 100 - fake_ratio if total_files > 0 else 0\n",
        "\n",
        "print(f\"총 이미지 파일 수: {total_files}\")\n",
        "print(f\"FAKE로 시작하는 파일 수: {fake_files}\")\n",
        "print(f\"FAKE 파일 비율: {fake_ratio:.2f}%\")\n",
        "print(f\"REAL 파일 비율: {real_ratio:.2f}%\")"
      ]
    },
    {
      "cell_type": "code",
      "execution_count": null,
      "metadata": {
        "id": "FEUMb5m2X2iV"
      },
      "outputs": [],
      "source": [
        "import os\n",
        "import random\n",
        "import uuid\n",
        "from PIL import Image\n",
        "import torch\n",
        "import torchvision.transforms as transforms\n",
        "\n",
        "# 입력 및 출력 폴더 경로 설정\n",
        "input_folder = \"/Users/gible/dataset/Image_maindata\"\n",
        "exclude_folder = \"/Users/gible/dataset/Image_maindata/AugmentedData\"\n",
        "output_folder = \"/Users/gible/dataset/augmented3\"\n",
        "\n",
        "# 증강 함수 정의\n",
        "def augment_image(image, file_name, output_folder):\n",
        "    augmentations = {\n",
        "        \"horizontal_flip\": transforms.RandomHorizontalFlip(p=1.0),\n",
        "        \"brightness\": transforms.ColorJitter(brightness=0.5),\n",
        "        \"rotation\": transforms.RandomRotation(degrees=30),\n",
        "        \"resize_crop\": transforms.RandomResizedCrop(size=(224, 224)),\n",
        "        \"noise\": lambda img: Image.fromarray(\n",
        "            (torch.clamp(\n",
        "                transforms.ToTensor()(img) + torch.randn_like(transforms.ToTensor()(img)) * 0.05, 0, 1\n",
        "            ).mul(255).byte().numpy().transpose(1, 2, 0))\n",
        "        ),\n",
        "        \"grayscale\": transforms.RandomGrayscale(p=1.0),\n",
        "    }\n",
        "\n",
        "    # 증강 수행\n",
        "    for name, transform in augmentations.items():\n",
        "        try:\n",
        "            augmented = transform(image)\n",
        "            unique_name = f\"{name}_{uuid.uuid4().hex}_{file_name}\"\n",
        "            augmented.save(os.path.join(output_folder, unique_name))\n",
        "        except Exception as e:\n",
        "            print(f\"{file_name}의 {name} 증강 오류: {e}\")\n",
        "\n",
        "# 폴더 생성\n",
        "os.makedirs(output_folder, exist_ok=True)\n",
        "\n",
        "# 대상 파일 필터링\n",
        "all_files = [\n",
        "    os.path.join(root, file)\n",
        "    for root, _, files in os.walk(input_folder)\n",
        "    for file in files\n",
        "    if file.lower().endswith(\".jpg\")\n",
        "    and not file.startswith(\"FAKE\")\n",
        "    and not root.startswith(exclude_folder)\n",
        "]\n",
        "\n",
        "# 50% 무작위 선택\n",
        "selected_files = random.sample(all_files, len(all_files) // 2)\n",
        "\n",
        "# 증강 적용\n",
        "for image_path in selected_files:\n",
        "    file = os.path.basename(image_path)\n",
        "    try:\n",
        "        with Image.open(image_path) as img:\n",
        "            # RGB 변환 필수\n",
        "            img = img.convert(\"RGB\")\n",
        "            augment_image(img, file, output_folder)\n",
        "            print(f\"{file} 처리 완료\")\n",
        "    except Exception as e:\n",
        "        print(f\"{file} 처리 오류: {e}\")\n",
        "\n",
        "print(\"이미지 증강 완료.\")"
      ]
    },
    {
      "cell_type": "markdown",
      "metadata": {
        "id": "97Xm4fRHX2iW"
      },
      "source": [
        "### 학습"
      ]
    },
    {
      "cell_type": "code",
      "execution_count": null,
      "metadata": {
        "colab": {
          "base_uri": "https://localhost:8080/"
        },
        "id": "YrQsEg3zpTNk",
        "outputId": "9e1f051d-0cd4-4156-df09-e4e9aeaef5cb"
      },
      "outputs": [
        {
          "output_type": "stream",
          "name": "stdout",
          "text": [
            "Collecting efficientnet-pytorch\n",
            "  Downloading efficientnet_pytorch-0.7.1.tar.gz (21 kB)\n",
            "  Preparing metadata (setup.py) ... \u001b[?25l\u001b[?25hdone\n",
            "Collecting pretrainedmodels\n",
            "  Downloading pretrainedmodels-0.7.4.tar.gz (58 kB)\n",
            "\u001b[2K     \u001b[90m━━━━━━━━━━━━━━━━━━━━━━━━━━━━━━━━━━━━━━━━\u001b[0m \u001b[32m58.8/58.8 kB\u001b[0m \u001b[31m5.6 MB/s\u001b[0m eta \u001b[36m0:00:00\u001b[0m\n",
            "\u001b[?25h  Preparing metadata (setup.py) ... \u001b[?25l\u001b[?25hdone\n",
            "Requirement already satisfied: torch in /usr/local/lib/python3.10/dist-packages (from efficientnet-pytorch) (2.5.1+cu121)\n",
            "Requirement already satisfied: torchvision in /usr/local/lib/python3.10/dist-packages (from pretrainedmodels) (0.20.1+cu121)\n",
            "Collecting munch (from pretrainedmodels)\n",
            "  Downloading munch-4.0.0-py2.py3-none-any.whl.metadata (5.9 kB)\n",
            "Requirement already satisfied: tqdm in /usr/local/lib/python3.10/dist-packages (from pretrainedmodels) (4.66.6)\n",
            "Requirement already satisfied: filelock in /usr/local/lib/python3.10/dist-packages (from torch->efficientnet-pytorch) (3.16.1)\n",
            "Requirement already satisfied: typing-extensions>=4.8.0 in /usr/local/lib/python3.10/dist-packages (from torch->efficientnet-pytorch) (4.12.2)\n",
            "Requirement already satisfied: networkx in /usr/local/lib/python3.10/dist-packages (from torch->efficientnet-pytorch) (3.4.2)\n",
            "Requirement already satisfied: jinja2 in /usr/local/lib/python3.10/dist-packages (from torch->efficientnet-pytorch) (3.1.4)\n",
            "Requirement already satisfied: fsspec in /usr/local/lib/python3.10/dist-packages (from torch->efficientnet-pytorch) (2024.10.0)\n",
            "Requirement already satisfied: sympy==1.13.1 in /usr/local/lib/python3.10/dist-packages (from torch->efficientnet-pytorch) (1.13.1)\n",
            "Requirement already satisfied: mpmath<1.4,>=1.1.0 in /usr/local/lib/python3.10/dist-packages (from sympy==1.13.1->torch->efficientnet-pytorch) (1.3.0)\n",
            "Requirement already satisfied: numpy in /usr/local/lib/python3.10/dist-packages (from torchvision->pretrainedmodels) (1.26.4)\n",
            "Requirement already satisfied: pillow!=8.3.*,>=5.3.0 in /usr/local/lib/python3.10/dist-packages (from torchvision->pretrainedmodels) (11.0.0)\n",
            "Requirement already satisfied: MarkupSafe>=2.0 in /usr/local/lib/python3.10/dist-packages (from jinja2->torch->efficientnet-pytorch) (3.0.2)\n",
            "Downloading munch-4.0.0-py2.py3-none-any.whl (9.9 kB)\n",
            "Building wheels for collected packages: efficientnet-pytorch, pretrainedmodels\n",
            "  Building wheel for efficientnet-pytorch (setup.py) ... \u001b[?25l\u001b[?25hdone\n",
            "  Created wheel for efficientnet-pytorch: filename=efficientnet_pytorch-0.7.1-py3-none-any.whl size=16424 sha256=edcb12ef1b9ef835ea33f4a2b081e1f2cf5a5f959a52921281013d04d73ad44e\n",
            "  Stored in directory: /root/.cache/pip/wheels/03/3f/e9/911b1bc46869644912bda90a56bcf7b960f20b5187feea3baf\n",
            "  Building wheel for pretrainedmodels (setup.py) ... \u001b[?25l\u001b[?25hdone\n",
            "  Created wheel for pretrainedmodels: filename=pretrainedmodels-0.7.4-py3-none-any.whl size=60944 sha256=9159179394e362c28e219486dfe1b605da9d76e9f43dc41a01d80e230735058e\n",
            "  Stored in directory: /root/.cache/pip/wheels/35/cb/a5/8f534c60142835bfc889f9a482e4a67e0b817032d9c6883b64\n",
            "Successfully built efficientnet-pytorch pretrainedmodels\n",
            "Installing collected packages: munch, efficientnet-pytorch, pretrainedmodels\n",
            "Successfully installed efficientnet-pytorch-0.7.1 munch-4.0.0 pretrainedmodels-0.7.4\n"
          ]
        }
      ],
      "source": [
        "!pip install efficientnet-pytorch pretrainedmodels"
      ]
    },
    {
      "cell_type": "code",
      "source": [
        "import os\n",
        "import ssl\n",
        "import torch\n",
        "import torch.nn as nn\n",
        "from torch.optim import Adam\n",
        "from torch.optim.lr_scheduler import ReduceLROnPlateau\n",
        "from torch.utils.data import DataLoader, Dataset, random_split\n",
        "from torchvision import transforms, models\n",
        "from torchvision.models import ResNet50_Weights\n",
        "from efficientnet_pytorch import EfficientNet\n",
        "from pretrainedmodels import xception\n",
        "from PIL import Image\n",
        "from tqdm import tqdm\n",
        "\n",
        "# SSL 인증서 검증 비활성화\n",
        "ssl._create_default_https_context = ssl._create_unverified_context\n",
        "\n",
        "# CUDA 장치 설정\n",
        "device = torch.device(\"cuda\" if torch.cuda.is_available() else \"cpu\")\n",
        "torch.backends.cudnn.benchmark = True\n",
        "\n",
        "print(f\"Using device: {device}\")\n",
        "if torch.cuda.is_available():\n",
        "    print(f\"GPU 이름: {torch.cuda.get_device_name(0)}\")\n",
        "\n",
        "# 사용자 정의 데이터셋 클래스\n",
        "class CustomDataset(Dataset):\n",
        "    def __init__(self, root_dir, transform=None):\n",
        "        self.root_dir = root_dir\n",
        "        self.transform = transform\n",
        "        self.image_paths = []\n",
        "        self.labels = []\n",
        "\n",
        "        for root, _, files in os.walk(root_dir):\n",
        "            for file in files:\n",
        "                if file.lower().endswith(('.jpg', '.jpeg', '.png')):\n",
        "                    file_path = os.path.join(root, file)\n",
        "                    self.image_paths.append(file_path)\n",
        "                    self.labels.append(0 if file.startswith(\"FAKE\") else 1)\n",
        "\n",
        "    def __len__(self):\n",
        "        return len(self.image_paths)\n",
        "\n",
        "    def __getitem__(self, idx):\n",
        "        image_path = self.image_paths[idx]\n",
        "        label = self.labels[idx]\n",
        "        try:\n",
        "            image = Image.open(image_path).convert(\"RGB\")\n",
        "            if self.transform:\n",
        "                image = self.transform(image)\n",
        "            return image, label\n",
        "        except Exception as e:\n",
        "            print(f\"Error loading image {image_path}: {e}\")\n",
        "            return None, None\n",
        "\n",
        "# 데이터 전처리 정의\n",
        "transform = transforms.Compose([\n",
        "    transforms.Resize((96, 96)),\n",
        "    transforms.ToTensor(),\n",
        "    transforms.Normalize([0.5, 0.5, 0.5], [0.5, 0.5, 0.5])\n",
        "])\n",
        "\n",
        "# 데이터셋 로드\n",
        "image_folder = '/content/drive/Othercomputers/내 MacBook Pro/Image_maindata'\n",
        "dataset = CustomDataset(root_dir=image_folder, transform=transform)\n",
        "\n",
        "# 데이터셋 분할\n",
        "train_size = int(0.8 * len(dataset))\n",
        "val_size = len(dataset) - train_size\n",
        "train_dataset, val_dataset = random_split(dataset, [train_size, val_size])\n",
        "\n",
        "# 데이터 로더 생성\n",
        "train_loader = DataLoader(train_dataset, batch_size=128, shuffle=True, num_workers=8, pin_memory=True, persistent_workers=True)\n",
        "val_loader = DataLoader(val_dataset, batch_size=128, shuffle=False, num_workers=8, pin_memory=True, persistent_workers=True)\n",
        "\n",
        "# 모델 초기화\n",
        "xception_model = xception(num_classes=1000, pretrained='imagenet')\n",
        "xception_model.last_linear = nn.Linear(xception_model.last_linear.in_features, 2)\n",
        "xception_model = nn.DataParallel(xception_model.to(device))\n",
        "\n",
        "efficientnet_model = EfficientNet.from_pretrained('efficientnet-b0', num_classes=2)\n",
        "efficientnet_model = nn.DataParallel(efficientnet_model.to(device))\n",
        "\n",
        "resnet_model = models.resnet50(weights=ResNet50_Weights.IMAGENET1K_V1)\n",
        "resnet_model.fc = nn.Linear(resnet_model.fc.in_features, 2)\n",
        "resnet_model = nn.DataParallel(resnet_model.to(device))\n",
        "\n",
        "# 손실 및 최적화 함수\n",
        "criterion = nn.CrossEntropyLoss()\n",
        "optimizer = Adam(\n",
        "    list(xception_model.parameters()) +\n",
        "    list(efficientnet_model.parameters()) +\n",
        "    list(resnet_model.parameters()),\n",
        "    lr=3e-4\n",
        ")\n",
        "\n",
        "# 학습률 스케줄러 정의\n",
        "scheduler = ReduceLROnPlateau(optimizer, mode='min', factor=0.5, patience=2, verbose=True)\n",
        "\n",
        "# 학습 루프 정의\n",
        "scaler = torch.cuda.amp.GradScaler()\n",
        "\n",
        "def train_ensemble_model(models, criterion, optimizer, scheduler, num_epochs=7):\n",
        "    for epoch in range(num_epochs):\n",
        "        train_loss, train_correct = 0.0, 0\n",
        "\n",
        "        for model in models:\n",
        "            model.train()\n",
        "\n",
        "        for images, labels in tqdm(train_loader, desc=f\"Training Epoch {epoch+1}/{num_epochs}\"):\n",
        "            images, labels = images.to(device, non_blocking=True), labels.to(device, non_blocking=True)\n",
        "\n",
        "            with torch.cuda.amp.autocast():\n",
        "                outputs = torch.stack([model(images) for model in models]).mean(dim=0)\n",
        "                loss = criterion(outputs, labels)\n",
        "\n",
        "            scaler.scale(loss).backward()\n",
        "            scaler.step(optimizer)\n",
        "            scaler.update()\n",
        "            optimizer.zero_grad()\n",
        "\n",
        "            train_loss += loss.item()\n",
        "            _, preds = torch.max(outputs, 1)\n",
        "            train_correct += (preds == labels).sum().item()\n",
        "\n",
        "        train_acc = train_correct / len(train_loader.dataset)\n",
        "        print(f\"Epoch [{epoch+1}/{num_epochs}], Loss: {train_loss/len(train_loader):.4f}, Accuracy: {train_acc:.4f}\")\n",
        "\n",
        "        val_loss, val_correct = 0.0, 0\n",
        "\n",
        "        for model in models:\n",
        "            model.eval()\n",
        "\n",
        "        with torch.no_grad():\n",
        "            for images, labels in tqdm(val_loader, desc=f\"Validation Epoch {epoch+1}/{num_epochs}\"):\n",
        "                images, labels = images.to(device, non_blocking=True), labels.to(device, non_blocking=True)\n",
        "                outputs = torch.stack([model(images) for model in models]).mean(dim=0)\n",
        "                loss = criterion(outputs, labels)\n",
        "\n",
        "                val_loss += loss.item()\n",
        "                _, preds = torch.max(outputs, 1)\n",
        "                val_correct += (preds == labels).sum().item()\n",
        "\n",
        "        val_acc = val_correct / len(val_loader.dataset)\n",
        "        print(f\"Validation Loss: {val_loss/len(val_loader):.4f}, Validation Accuracy: {val_acc:.4f}\")\n",
        "\n",
        "        scheduler.step(val_loss)\n",
        "\n",
        "# 학습 시작\n",
        "models = [xception_model, efficientnet_model, resnet_model]\n",
        "train_ensemble_model(models, criterion, optimizer, scheduler, num_epochs=7)\n",
        "\n",
        "# 모델 저장\n",
        "output_dir = '/content/drive/Othercomputers/내 MacBook Pro/Image_maindata'\n",
        "os.makedirs(output_dir, exist_ok=True)\n",
        "\n",
        "torch.save(xception_model.state_dict(), os.path.join(output_dir, 'xception_model.pth'))\n",
        "torch.save(efficientnet_model.state_dict(), os.path.join(output_dir, 'efficientnet_model.pth'))\n",
        "torch.save(resnet_model.state_dict(), os.path.join(output_dir, 'resnet_model.pth'))\n",
        "\n",
        "print(\"모델이 성공적으로 저장되었습니다.\")"
      ],
      "metadata": {
        "colab": {
          "base_uri": "https://localhost:8080/"
        },
        "id": "rn1AOpwR6Pva",
        "outputId": "57100644-e379-4a14-a9e0-7bf30a10d5f0"
      },
      "execution_count": null,
      "outputs": [
        {
          "metadata": {
            "tags": null
          },
          "name": "stdout",
          "output_type": "stream",
          "text": [
            "Using device: cuda\n",
            "GPU 이름: NVIDIA L4\n"
          ]
        },
        {
          "metadata": {
            "tags": null
          },
          "name": "stderr",
          "output_type": "stream",
          "text": [
            "Downloading: \"http://data.lip6.fr/cadene/pretrainedmodels/xception-43020ad28.pth\" to /root/.cache/torch/hub/checkpoints/xception-43020ad28.pth\n",
            "100%|██████████| 87.4M/87.4M [04:17<00:00, 356kB/s]\n",
            "Downloading: \"https://github.com/lukemelas/EfficientNet-PyTorch/releases/download/1.0/efficientnet-b0-355c32eb.pth\" to /root/.cache/torch/hub/checkpoints/efficientnet-b0-355c32eb.pth\n",
            "100%|██████████| 20.4M/20.4M [00:00<00:00, 39.7MB/s]\n"
          ]
        },
        {
          "metadata": {
            "tags": null
          },
          "name": "stdout",
          "output_type": "stream",
          "text": [
            "Loaded pretrained weights for efficientnet-b0\n"
          ]
        },
        {
          "output_type": "stream",
          "name": "stderr",
          "text": [
            "Downloading: \"https://download.pytorch.org/models/resnet50-0676ba61.pth\" to /root/.cache/torch/hub/checkpoints/resnet50-0676ba61.pth\n",
            "100%|██████████| 97.8M/97.8M [00:00<00:00, 214MB/s]\n",
            "/usr/local/lib/python3.10/dist-packages/torch/optim/lr_scheduler.py:62: UserWarning: The verbose parameter is deprecated. Please use get_last_lr() to access the learning rate.\n",
            "  warnings.warn(\n",
            "<ipython-input-3-fc14d2801085>:101: FutureWarning: `torch.cuda.amp.GradScaler(args...)` is deprecated. Please use `torch.amp.GradScaler('cuda', args...)` instead.\n",
            "  scaler = torch.cuda.amp.GradScaler()\n",
            "Training Epoch 1/7:   0%|          | 0/914 [00:00<?, ?it/s]<ipython-input-3-fc14d2801085>:113: FutureWarning: `torch.cuda.amp.autocast(args...)` is deprecated. Please use `torch.amp.autocast('cuda', args...)` instead.\n",
            "  with torch.cuda.amp.autocast():\n",
            "Training Epoch 1/7: 100%|██████████| 914/914 [2:44:41<00:00, 10.81s/it]\n"
          ]
        },
        {
          "output_type": "stream",
          "name": "stdout",
          "text": [
            "Epoch [1/7], Loss: 0.1365, Accuracy: 0.9477\n"
          ]
        },
        {
          "output_type": "stream",
          "name": "stderr",
          "text": [
            "Validation Epoch 1/7: 100%|██████████| 229/229 [40:55<00:00, 10.72s/it]\n"
          ]
        },
        {
          "output_type": "stream",
          "name": "stdout",
          "text": [
            "Validation Loss: 0.0870, Validation Accuracy: 0.9675\n"
          ]
        },
        {
          "output_type": "stream",
          "name": "stderr",
          "text": [
            "Training Epoch 2/7: 100%|██████████| 914/914 [03:32<00:00,  4.30it/s]\n"
          ]
        },
        {
          "output_type": "stream",
          "name": "stdout",
          "text": [
            "Epoch [2/7], Loss: 0.0820, Accuracy: 0.9704\n"
          ]
        },
        {
          "output_type": "stream",
          "name": "stderr",
          "text": [
            "Validation Epoch 2/7: 100%|██████████| 229/229 [00:51<00:00,  4.47it/s]\n"
          ]
        },
        {
          "output_type": "stream",
          "name": "stdout",
          "text": [
            "Validation Loss: 0.0845, Validation Accuracy: 0.9684\n"
          ]
        },
        {
          "output_type": "stream",
          "name": "stderr",
          "text": [
            "Training Epoch 3/7: 100%|██████████| 914/914 [03:32<00:00,  4.30it/s]\n"
          ]
        },
        {
          "output_type": "stream",
          "name": "stdout",
          "text": [
            "Epoch [3/7], Loss: 0.0654, Accuracy: 0.9771\n"
          ]
        },
        {
          "output_type": "stream",
          "name": "stderr",
          "text": [
            "Validation Epoch 3/7: 100%|██████████| 229/229 [00:51<00:00,  4.44it/s]\n"
          ]
        },
        {
          "output_type": "stream",
          "name": "stdout",
          "text": [
            "Validation Loss: 0.0838, Validation Accuracy: 0.9701\n"
          ]
        },
        {
          "output_type": "stream",
          "name": "stderr",
          "text": [
            "Training Epoch 4/7: 100%|██████████| 914/914 [03:30<00:00,  4.33it/s]\n"
          ]
        },
        {
          "output_type": "stream",
          "name": "stdout",
          "text": [
            "Epoch [4/7], Loss: 0.0537, Accuracy: 0.9815\n"
          ]
        },
        {
          "output_type": "stream",
          "name": "stderr",
          "text": [
            "Validation Epoch 4/7: 100%|██████████| 229/229 [00:51<00:00,  4.45it/s]\n"
          ]
        },
        {
          "output_type": "stream",
          "name": "stdout",
          "text": [
            "Validation Loss: 0.0852, Validation Accuracy: 0.9689\n"
          ]
        },
        {
          "output_type": "stream",
          "name": "stderr",
          "text": [
            "Training Epoch 5/7: 100%|██████████| 914/914 [03:29<00:00,  4.37it/s]\n"
          ]
        },
        {
          "output_type": "stream",
          "name": "stdout",
          "text": [
            "Epoch [5/7], Loss: 0.0451, Accuracy: 0.9843\n"
          ]
        },
        {
          "output_type": "stream",
          "name": "stderr",
          "text": [
            "Validation Epoch 5/7: 100%|██████████| 229/229 [00:51<00:00,  4.47it/s]\n"
          ]
        },
        {
          "output_type": "stream",
          "name": "stdout",
          "text": [
            "Validation Loss: 0.0737, Validation Accuracy: 0.9764\n"
          ]
        },
        {
          "output_type": "stream",
          "name": "stderr",
          "text": [
            "Training Epoch 6/7: 100%|██████████| 914/914 [03:29<00:00,  4.37it/s]\n"
          ]
        },
        {
          "output_type": "stream",
          "name": "stdout",
          "text": [
            "Epoch [6/7], Loss: 0.0407, Accuracy: 0.9859\n"
          ]
        },
        {
          "output_type": "stream",
          "name": "stderr",
          "text": [
            "Validation Epoch 6/7: 100%|██████████| 229/229 [00:51<00:00,  4.47it/s]\n"
          ]
        },
        {
          "output_type": "stream",
          "name": "stdout",
          "text": [
            "Validation Loss: 0.0782, Validation Accuracy: 0.9758\n"
          ]
        },
        {
          "output_type": "stream",
          "name": "stderr",
          "text": [
            "Training Epoch 7/7: 100%|██████████| 914/914 [03:30<00:00,  4.35it/s]\n"
          ]
        },
        {
          "output_type": "stream",
          "name": "stdout",
          "text": [
            "Epoch [7/7], Loss: 0.0327, Accuracy: 0.9889\n"
          ]
        },
        {
          "output_type": "stream",
          "name": "stderr",
          "text": [
            "Validation Epoch 7/7: 100%|██████████| 229/229 [00:50<00:00,  4.50it/s]\n"
          ]
        },
        {
          "output_type": "stream",
          "name": "stdout",
          "text": [
            "Validation Loss: 0.0819, Validation Accuracy: 0.9726\n",
            "모델이 성공적으로 저장되었습니다.\n"
          ]
        }
      ]
    },
    {
      "cell_type": "code",
      "source": [],
      "metadata": {
        "id": "qHNto67Vg0u0"
      },
      "execution_count": null,
      "outputs": []
    }
  ],
  "metadata": {
    "accelerator": "GPU",
    "colab": {
      "gpuType": "A100",
      "machine_shape": "hm",
      "provenance": []
    },
    "kernelspec": {
      "display_name": "Python 3",
      "name": "python3"
    },
    "language_info": {
      "codemirror_mode": {
        "name": "ipython",
        "version": 3
      },
      "file_extension": ".py",
      "mimetype": "text/x-python",
      "name": "python",
      "nbconvert_exporter": "python",
      "pygments_lexer": "ipython3",
      "version": "3.9.21"
    }
  },
  "nbformat": 4,
  "nbformat_minor": 0
}